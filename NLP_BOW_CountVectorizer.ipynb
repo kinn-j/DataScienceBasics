{
  "nbformat": 4,
  "nbformat_minor": 0,
  "metadata": {
    "colab": {
      "provenance": [],
      "authorship_tag": "ABX9TyNRaxY94SsA9B7gqZSP8aoG",
      "include_colab_link": true
    },
    "kernelspec": {
      "name": "python3",
      "display_name": "Python 3"
    },
    "language_info": {
      "name": "python"
    }
  },
  "cells": [
    {
      "cell_type": "markdown",
      "metadata": {
        "id": "view-in-github",
        "colab_type": "text"
      },
      "source": [
        "<a href=\"https://colab.research.google.com/github/kinn-j/nlp_basics/blob/main/NLP_BOW_CountVectorizer.ipynb\" target=\"_parent\"><img src=\"https://colab.research.google.com/assets/colab-badge.svg\" alt=\"Open In Colab\"/></a>"
      ]
    },
    {
      "cell_type": "code",
      "execution_count": null,
      "metadata": {
        "id": "x8_uzkVvOYIz"
      },
      "outputs": [],
      "source": [
        "from sklearn.feature_extraction.text import CountVectorizer"
      ]
    },
    {
      "cell_type": "code",
      "source": [
        "text= [\"The quick brown fox jumped over the lazy dog\"]"
      ],
      "metadata": {
        "id": "YTkw8-35OlMa"
      },
      "execution_count": null,
      "outputs": []
    },
    {
      "cell_type": "code",
      "source": [
        "# Create the Transform\n",
        "vectorizer= CountVectorizer()\n",
        "\n",
        "# Tokenize and build vocab\n",
        "vectorizer.fit(text)\n",
        "\n",
        "# summerize\n",
        "print(vectorizer.vocabulary_)\n",
        "\n",
        "#encode Document\n",
        "vector= vectorizer.transform(text)\n",
        "\n",
        "# Print\n",
        "print(\"Size: \",vector.shape)\n",
        "print(\"Type: \",type(vector))\n",
        "print(\"Vector to array: \",vector.toarray()) # two 'the' are there in the sentence, rest all one time in sentence"
      ],
      "metadata": {
        "colab": {
          "base_uri": "https://localhost:8080/"
        },
        "id": "2IXsV5IsO8iI",
        "outputId": "9e31d263-c9f4-4d0e-e94d-62306267ce92"
      },
      "execution_count": null,
      "outputs": [
        {
          "output_type": "stream",
          "name": "stdout",
          "text": [
            "{'the': 7, 'quick': 6, 'brown': 0, 'fox': 2, 'jumped': 3, 'over': 5, 'lazy': 4, 'dog': 1}\n",
            "Size:  (1, 8)\n",
            "Type:  <class 'scipy.sparse._csr.csr_matrix'>\n",
            "Vector to array:  [[1 1 1 1 1 1 1 2]]\n"
          ]
        }
      ]
    },
    {
      "cell_type": "code",
      "source": [
        "vector"
      ],
      "metadata": {
        "colab": {
          "base_uri": "https://localhost:8080/"
        },
        "id": "IxdbeKsqPL_Y",
        "outputId": "b55f2b2b-ca16-495d-9e3d-a2d8ba7ae72c"
      },
      "execution_count": null,
      "outputs": [
        {
          "output_type": "execute_result",
          "data": {
            "text/plain": [
              "<1x8 sparse matrix of type '<class 'numpy.int64'>'\n",
              "\twith 8 stored elements in Compressed Sparse Row format>"
            ]
          },
          "metadata": {},
          "execution_count": 9
        }
      ]
    },
    {
      "cell_type": "code",
      "source": [],
      "metadata": {
        "id": "aokGJdogY5TR"
      },
      "execution_count": null,
      "outputs": []
    }
  ]
}