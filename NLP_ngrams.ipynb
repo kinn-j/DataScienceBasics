{
  "nbformat": 4,
  "nbformat_minor": 0,
  "metadata": {
    "colab": {
      "provenance": [],
      "authorship_tag": "ABX9TyMLxt0dNdIUdSssebjYXBNP",
      "include_colab_link": true
    },
    "kernelspec": {
      "name": "python3",
      "display_name": "Python 3"
    },
    "language_info": {
      "name": "python"
    }
  },
  "cells": [
    {
      "cell_type": "markdown",
      "metadata": {
        "id": "view-in-github",
        "colab_type": "text"
      },
      "source": [
        "<a href=\"https://colab.research.google.com/github/kinn-j/nlp_basics/blob/main/NLP_ngrams.ipynb\" target=\"_parent\"><img src=\"https://colab.research.google.com/assets/colab-badge.svg\" alt=\"Open In Colab\"/></a>"
      ]
    },
    {
      "cell_type": "markdown",
      "source": [
        "ngrams are used in :\n",
        "- auto completion of sentences eg in Gmail.\n",
        "- auto spell checks or grammar etc"
      ],
      "metadata": {
        "id": "H_w_d1E1LYM6"
      }
    },
    {
      "cell_type": "code",
      "execution_count": 2,
      "metadata": {
        "id": "5p9m0_dsKxOR"
      },
      "outputs": [],
      "source": [
        "import re\n",
        "def ngrams(text,n):\n",
        "  tokens= re.split(\"\\\\s\", text)\n",
        "  ngrams=[]\n",
        "\n",
        "  for i in range(len(tokens)-n+1):\n",
        "    temp= [tokens[j] for j in range(i, i+n)]\n",
        "    ngrams.append(\" \".join(temp))\n",
        "\n",
        "  return ngrams"
      ]
    },
    {
      "cell_type": "code",
      "source": [
        "text= \"The quick brown fox jumps over the lazy dog\";\n",
        "ngrams(text, 1)"
      ],
      "metadata": {
        "colab": {
          "base_uri": "https://localhost:8080/"
        },
        "id": "1-LyV4W_L-B2",
        "outputId": "c161b901-7963-4a1c-c98f-8fe313a97d9d"
      },
      "execution_count": 4,
      "outputs": [
        {
          "output_type": "execute_result",
          "data": {
            "text/plain": [
              "['The', 'quick', 'brown', 'fox', 'jumps', 'over', 'the', 'lazy', 'dog']"
            ]
          },
          "metadata": {},
          "execution_count": 4
        }
      ]
    },
    {
      "cell_type": "code",
      "source": [
        "ngrams(text,2)"
      ],
      "metadata": {
        "colab": {
          "base_uri": "https://localhost:8080/"
        },
        "id": "IybSZieIMG7L",
        "outputId": "ae6ca65e-3f1b-4aff-bf40-0007f2f2d196"
      },
      "execution_count": 5,
      "outputs": [
        {
          "output_type": "execute_result",
          "data": {
            "text/plain": [
              "['The quick',\n",
              " 'quick brown',\n",
              " 'brown fox',\n",
              " 'fox jumps',\n",
              " 'jumps over',\n",
              " 'over the',\n",
              " 'the lazy',\n",
              " 'lazy dog']"
            ]
          },
          "metadata": {},
          "execution_count": 5
        }
      ]
    },
    {
      "cell_type": "code",
      "source": [
        "ngrams(text,3)"
      ],
      "metadata": {
        "colab": {
          "base_uri": "https://localhost:8080/"
        },
        "id": "rO5icIwOMPnX",
        "outputId": "078edecc-c539-495b-ecb8-345d8372ce95"
      },
      "execution_count": 6,
      "outputs": [
        {
          "output_type": "execute_result",
          "data": {
            "text/plain": [
              "['The quick brown',\n",
              " 'quick brown fox',\n",
              " 'brown fox jumps',\n",
              " 'fox jumps over',\n",
              " 'jumps over the',\n",
              " 'over the lazy',\n",
              " 'the lazy dog']"
            ]
          },
          "metadata": {},
          "execution_count": 6
        }
      ]
    },
    {
      "cell_type": "code",
      "source": [],
      "metadata": {
        "id": "u4wnmrVnMQpZ"
      },
      "execution_count": null,
      "outputs": []
    }
  ]
}