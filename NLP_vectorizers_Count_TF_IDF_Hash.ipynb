{
  "nbformat": 4,
  "nbformat_minor": 0,
  "metadata": {
    "colab": {
      "provenance": [],
      "authorship_tag": "ABX9TyMkjfydqqyN/yAv3epsRNzL",
      "include_colab_link": true
    },
    "kernelspec": {
      "name": "python3",
      "display_name": "Python 3"
    },
    "language_info": {
      "name": "python"
    }
  },
  "cells": [
    {
      "cell_type": "markdown",
      "metadata": {
        "id": "view-in-github",
        "colab_type": "text"
      },
      "source": [
        "<a href=\"https://colab.research.google.com/github/kinn-j/nlp_basics/blob/main/NLP_vectorizers_Count_TF_IDF_Hash.ipynb\" target=\"_parent\"><img src=\"https://colab.research.google.com/assets/colab-badge.svg\" alt=\"Open In Colab\"/></a>"
      ]
    },
    {
      "cell_type": "code",
      "execution_count": null,
      "metadata": {
        "id": "CHEdTZZf_Bvc"
      },
      "outputs": [],
      "source": [
        "from sklearn.feature_extraction.text import CountVectorizer"
      ]
    },
    {
      "cell_type": "code",
      "source": [
        "text=[\" the car is driven on the road.\",\"The truck is driven on the highway\"]\n",
        "vectorizer = CountVectorizer()\n",
        "vectorizer.fit(text)\n",
        "print(vectorizer.vocabulary_)\n",
        "newvec= vectorizer.transform(text)\n",
        "print(newvec.toarray())"
      ],
      "metadata": {
        "colab": {
          "base_uri": "https://localhost:8080/"
        },
        "id": "dELtCYfX_McL",
        "outputId": "a0000fe3-7b23-4ebb-90cf-1b580ce71c59"
      },
      "execution_count": 25,
      "outputs": [
        {
          "output_type": "stream",
          "name": "stdout",
          "text": [
            "{'the': 6, 'car': 0, 'is': 3, 'driven': 1, 'on': 4, 'road': 5, 'truck': 7, 'highway': 2}\n",
            "[[1 1 0 1 1 1 2 0]\n",
            " [0 1 1 1 1 0 2 1]]\n"
          ]
        }
      ]
    },
    {
      "cell_type": "markdown",
      "source": [
        "\n",
        "## ***TF-IDF ***"
      ],
      "metadata": {
        "id": "eNax8wKyAIye"
      }
    },
    {
      "cell_type": "code",
      "source": [
        "from sklearn.feature_extraction.text import TfidfVectorizer\n",
        "vect= TfidfVectorizer()\n",
        "text=[\" the car is driven on the road.\",\"The truck is driven on the highway\"]\n",
        "\n",
        "vect.fit(text)\n",
        "\n",
        "print(vect.vocabulary_)\n",
        "print(\"\\n\",vect.idf_)"
      ],
      "metadata": {
        "id": "83tjtZLb_rCm",
        "colab": {
          "base_uri": "https://localhost:8080/"
        },
        "outputId": "75efed08-bfd8-411d-fe0e-93c63ea7573f"
      },
      "execution_count": 31,
      "outputs": [
        {
          "output_type": "stream",
          "name": "stdout",
          "text": [
            "{'the': 6, 'car': 0, 'is': 3, 'driven': 1, 'on': 4, 'road': 5, 'truck': 7, 'highway': 2}\n",
            "\n",
            " [1.40546511 1.         1.40546511 1.         1.         1.40546511\n",
            " 1.         1.40546511]\n"
          ]
        }
      ]
    },
    {
      "cell_type": "markdown",
      "source": [
        "# **Hashing Vectorizer**"
      ],
      "metadata": {
        "id": "_LiFfunBF3Qw"
      }
    },
    {
      "cell_type": "code",
      "source": [
        "from sklearn.feature_extraction.text import HashingVectorizer\n",
        "vec= HashingVectorizer(n_features=  20)\n",
        "\n",
        "text= [\"The quick brown fox jumped over the lazy dog\"]\n",
        "v= vec.transform(text)\n",
        "print(v.toarray())"
      ],
      "metadata": {
        "colab": {
          "base_uri": "https://localhost:8080/"
        },
        "id": "ddiLR6aAA4dj",
        "outputId": "242b7afc-0a27-464e-db47-5240ad5cd8ff"
      },
      "execution_count": 22,
      "outputs": [
        {
          "output_type": "stream",
          "name": "stdout",
          "text": [
            "[[ 0.          0.          0.          0.          0.          0.33333333\n",
            "   0.         -0.33333333  0.33333333  0.          0.          0.33333333\n",
            "   0.          0.          0.         -0.33333333  0.          0.\n",
            "  -0.66666667  0.        ]]\n"
          ]
        }
      ]
    },
    {
      "cell_type": "code",
      "source": [],
      "metadata": {
        "id": "_my8oSetBAgv"
      },
      "execution_count": null,
      "outputs": []
    }
  ]
}