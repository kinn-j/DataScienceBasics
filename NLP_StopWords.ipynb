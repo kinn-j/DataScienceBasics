{
  "nbformat": 4,
  "nbformat_minor": 0,
  "metadata": {
    "kernelspec": {
      "display_name": "Python 3",
      "language": "python",
      "name": "python3"
    },
    "language_info": {
      "codemirror_mode": {
        "name": "ipython",
        "version": 3
      },
      "file_extension": ".py",
      "mimetype": "text/x-python",
      "name": "python",
      "nbconvert_exporter": "python",
      "pygments_lexer": "ipython3",
      "version": "3.6.7"
    },
    "colab": {
      "provenance": [],
      "include_colab_link": true
    }
  },
  "cells": [
    {
      "cell_type": "markdown",
      "metadata": {
        "id": "view-in-github",
        "colab_type": "text"
      },
      "source": [
        "<a href=\"https://colab.research.google.com/github/kinn-j/NLP/blob/main/NLP_StopWords.ipynb\" target=\"_parent\"><img src=\"https://colab.research.google.com/assets/colab-badge.svg\" alt=\"Open In Colab\"/></a>"
      ]
    },
    {
      "cell_type": "markdown",
      "metadata": {
        "id": "S5v33WyRCR2S"
      },
      "source": [
        "# Stop Words\n",
        "Stop words are those words that do not contribute to the deeper meaning of the phrase. They are the most common words such as: the, a, and is. For some applications like documentation classification, it may make sense to remove stop words. NLTK provides a list of commonly agreed upon stop words for a variety of languages, such as English.."
      ]
    },
    {
      "cell_type": "code",
      "metadata": {
        "id": "yqCilyYOhaHh"
      },
      "source": [],
      "execution_count": null,
      "outputs": []
    },
    {
      "cell_type": "code",
      "metadata": {
        "id": "M1ehwqoXCR2T"
      },
      "source": [
        "# Perform standard imports:\n",
        "import spacy\n",
        "nlp = spacy.load('en_core_web_sm')"
      ],
      "execution_count": 1,
      "outputs": []
    },
    {
      "cell_type": "code",
      "metadata": {
        "id": "0PZAtJwgCVNo",
        "colab": {
          "base_uri": "https://localhost:8080/"
        },
        "outputId": "f0fc5df0-979f-439b-b039-705c7cf6ddd8"
      },
      "source": [
        "import nltk\n",
        "nltk.download('stopwords')"
      ],
      "execution_count": 2,
      "outputs": [
        {
          "output_type": "stream",
          "name": "stderr",
          "text": [
            "[nltk_data] Downloading package stopwords to /root/nltk_data...\n",
            "[nltk_data]   Unzipping corpora/stopwords.zip.\n"
          ]
        },
        {
          "output_type": "execute_result",
          "data": {
            "text/plain": [
              "True"
            ]
          },
          "metadata": {},
          "execution_count": 2
        }
      ]
    },
    {
      "cell_type": "code",
      "metadata": {
        "id": "O3drpJkBCR2Z",
        "colab": {
          "base_uri": "https://localhost:8080/"
        },
        "outputId": "44d688b1-9587-49b8-90b3-0abc3b1f3677"
      },
      "source": [
        "# Print the set of spaCy's default stop words (remember that sets are unordered):\n",
        "print(nlp.Defaults.stop_words)\n",
        "a= list(nlp.Defaults.stop_words)\n",
        "len(a)"
      ],
      "execution_count": 8,
      "outputs": [
        {
          "output_type": "stream",
          "name": "stdout",
          "text": [
            "{'twenty', 'someone', 'nine', 'about', 'nevertheless', '‘m', 'how', 'fifteen', 'whither', 'was', 'anywhere', 'thereby', 'moreover', 'full', 'their', 'herself', 'has', 'nor', 'there', 'least', 'via', 'afterwards', 'under', 'which', '’d', \"'re\", 'five', 'using', 'except', 'make', 'then', 'ours', 'still', 'none', 'due', 'either', 'through', 'keep', 'them', 'each', 'all', 'than', 'she', 'though', 'had', '‘ll', 'why', 'move', 'whence', 'whenever', 'down', 'hundred', 'hereupon', 'never', 'used', 'sometime', 'many', 'take', 'amongst', 'very', '’ll', 'toward', \"'ll\", 'doing', 'go', 'this', 'while', 'without', 'hereafter', 'until', 'wherever', 'alone', 'back', 'meanwhile', 'herein', 'been', 'fifty', 'are', 'can', 'some', 'first', 'somewhere', 'above', 'every', 'his', 'my', 'once', 'seem', 'however', 'for', 'himself', 'get', 'any', 'see', 'may', '’ve', 'upon', 'whereby', 'us', 'since', 'he', 'next', 'yours', 'because', 'part', 'neither', 'might', 'regarding', 'him', 'we', 'nothing', 'among', 'name', 'around', 'that', 'what', 'would', 'anyhow', 'did', 'across', 'much', 'these', 'often', 'whose', 'nobody', 'bottom', 'own', 'become', 'does', 'being', 'other', 'call', \"'s\", 'they', 'therefore', \"'ve\", 'everyone', 'must', 'when', 'enough', 'thence', 'three', 'whereafter', 'mine', 'whatever', 'both', 'yet', 'such', 'i', 'several', 'yourselves', '‘s', 'at', 'made', 'anyone', 'else', 'ten', 'again', 'in', 'an', 'into', 'same', 'with', 'formerly', 'hers', 'ourselves', 'another', 'becoming', 'front', 'should', 'well', '’s', '’re', 'those', 'seemed', 'everywhere', 'noone', 'over', 'have', 'unless', 'on', 'to', 'namely', 'eleven', 'were', 'no', 'indeed', 'me', 'although', 'show', 'you', 'various', 'becomes', 'thru', 'besides', 'our', 'whether', 'four', 'beyond', 'yourself', 'nowhere', 'rather', 'almost', '‘d', 'quite', 'throughout', 'already', 'if', 'cannot', 'where', 'per', 'who', 'mostly', 'by', 'third', 'ca', 'more', 'thereafter', 'last', 'too', 'be', 'few', 'side', 'n’t', 'sixty', 'done', 'it', '‘ve', 'off', 'from', 'also', 'themselves', 'here', 'against', 'towards', 'less', 'thereupon', 'now', 'the', 'therein', 'say', 'only', 'even', 'everything', 'behind', 'whereupon', 'former', 'empty', 'along', 'amount', 'but', 'as', 'within', 'twelve', 'do', 'forty', 'whole', 'serious', 'not', 'together', 'otherwise', 'thus', 'something', 'itself', 'seeming', 'could', 'somehow', 'one', 'myself', 'hereby', '‘re', 'between', 'will', 'before', 'further', 'really', 'up', 'wherein', 'most', 'or', \"n't\", \"'d\", 'beforehand', 'am', 'your', 'so', 'after', 'onto', 'please', 'a', 'its', 'out', 'ever', 'two', 'elsewhere', 'during', 'her', 're', 'perhaps', 'anyway', 'seems', 'is', 'give', 'eight', 'below', 'just', 'of', 'beside', 'sometimes', \"'m\", 'and', 'hence', 'latterly', 'whoever', 'put', 'others', 'latter', 'top', 'n‘t', 'six', 'always', 'anything', 'whereas', 'whom', '’m', 'became'}\n"
          ]
        },
        {
          "output_type": "execute_result",
          "data": {
            "text/plain": [
              "326"
            ]
          },
          "metadata": {},
          "execution_count": 8
        }
      ]
    },
    {
      "cell_type": "code",
      "metadata": {
        "id": "diWTTaRICR2g",
        "colab": {
          "base_uri": "https://localhost:8080/"
        },
        "outputId": "ab12f176-37e3-485a-c8d6-2a72dc7d1c5b"
      },
      "source": [
        "len(nlp.Defaults.stop_words)"
      ],
      "execution_count": 9,
      "outputs": [
        {
          "output_type": "execute_result",
          "data": {
            "text/plain": [
              "326"
            ]
          },
          "metadata": {},
          "execution_count": 9
        }
      ]
    },
    {
      "cell_type": "markdown",
      "metadata": {
        "id": "tWu19KsbCR2k"
      },
      "source": [
        "## To see if a word is a stop word"
      ]
    },
    {
      "cell_type": "code",
      "metadata": {
        "id": "Sxj_JjAdCR2k",
        "colab": {
          "base_uri": "https://localhost:8080/"
        },
        "outputId": "d9661730-1e72-48a9-f0ee-8ca98ab1dfc8"
      },
      "source": [
        "nlp.vocab['myself'].is_stop"
      ],
      "execution_count": 10,
      "outputs": [
        {
          "output_type": "execute_result",
          "data": {
            "text/plain": [
              "True"
            ]
          },
          "metadata": {},
          "execution_count": 10
        }
      ]
    },
    {
      "cell_type": "code",
      "metadata": {
        "id": "Ep_V7bnOCR2o",
        "colab": {
          "base_uri": "https://localhost:8080/"
        },
        "outputId": "48f24db6-320e-4f81-ff18-22566f7ca98e"
      },
      "source": [
        "nlp.vocab['mystery'].is_stop"
      ],
      "execution_count": 11,
      "outputs": [
        {
          "output_type": "execute_result",
          "data": {
            "text/plain": [
              "False"
            ]
          },
          "metadata": {},
          "execution_count": 11
        }
      ]
    },
    {
      "cell_type": "code",
      "metadata": {
        "id": "U1vIs64dCR2t"
      },
      "source": [
        "# Add the word to the set of stop words. Use lowercase!\n",
        "nlp.Defaults.stop_words.add('mystery')"
      ],
      "execution_count": 12,
      "outputs": []
    },
    {
      "cell_type": "code",
      "metadata": {
        "id": "SQnVv6JEiqHC"
      },
      "source": [
        "# Set the stop_word tag on the lexeme\n",
        "nlp.vocab['mystery'].is_stop = True"
      ],
      "execution_count": 13,
      "outputs": []
    },
    {
      "cell_type": "code",
      "metadata": {
        "id": "IO-WF_1mCR2x",
        "colab": {
          "base_uri": "https://localhost:8080/"
        },
        "outputId": "3366ff16-2fd0-4d78-cdae-b668bad9132e"
      },
      "source": [
        "len(nlp.Defaults.stop_words)"
      ],
      "execution_count": 14,
      "outputs": [
        {
          "output_type": "execute_result",
          "data": {
            "text/plain": [
              "327"
            ]
          },
          "metadata": {},
          "execution_count": 14
        }
      ]
    },
    {
      "cell_type": "code",
      "metadata": {
        "id": "oMMCzOUACR21",
        "colab": {
          "base_uri": "https://localhost:8080/"
        },
        "outputId": "c1bc47dc-938b-4a0f-a410-eeb2102fcd76"
      },
      "source": [
        "nlp.vocab['mystery'].is_stop"
      ],
      "execution_count": 15,
      "outputs": [
        {
          "output_type": "execute_result",
          "data": {
            "text/plain": [
              "True"
            ]
          },
          "metadata": {},
          "execution_count": 15
        }
      ]
    },
    {
      "cell_type": "markdown",
      "metadata": {
        "id": "p58rPB42CR24"
      },
      "source": [
        "## To remove a stop word\n",
        "Alternatively, you may decide that `'beyond'` should not be considered a stop word."
      ]
    },
    {
      "cell_type": "code",
      "metadata": {
        "id": "0KEtYBNRCR25"
      },
      "source": [
        "# Remove the word from the set of stop words\n",
        "nlp.Defaults.stop_words.remove('beyond')\n",
        "\n",
        "# Remove the stop_word tag from the lexeme\n",
        "nlp.vocab['beyond'].is_stop = False"
      ],
      "execution_count": 16,
      "outputs": []
    },
    {
      "cell_type": "code",
      "metadata": {
        "id": "iQr5IK3CCR28",
        "colab": {
          "base_uri": "https://localhost:8080/"
        },
        "outputId": "61d4e529-e6b3-41bf-e420-0ce132fa377c"
      },
      "source": [
        "len(nlp.Defaults.stop_words)"
      ],
      "execution_count": 17,
      "outputs": [
        {
          "output_type": "execute_result",
          "data": {
            "text/plain": [
              "326"
            ]
          },
          "metadata": {},
          "execution_count": 17
        }
      ]
    },
    {
      "cell_type": "code",
      "metadata": {
        "id": "ZLnWlnDQCR2_",
        "colab": {
          "base_uri": "https://localhost:8080/"
        },
        "outputId": "a32bc824-0fae-45c1-f5c9-f992231d4eef"
      },
      "source": [
        "nlp.vocab['beyond'].is_stop"
      ],
      "execution_count": 18,
      "outputs": [
        {
          "output_type": "execute_result",
          "data": {
            "text/plain": [
              "False"
            ]
          },
          "metadata": {},
          "execution_count": 18
        }
      ]
    },
    {
      "cell_type": "code",
      "metadata": {
        "id": "TCyp1UmXCxgJ",
        "colab": {
          "base_uri": "https://localhost:8080/"
        },
        "outputId": "1851c933-7465-46e2-826f-5e454e1934e5"
      },
      "source": [
        "import string\n",
        "import re\n",
        "import nltk\n",
        "nltk.download('punkt')\n",
        "\n",
        "from nltk import word_tokenize,sent_tokenize\n",
        "from nltk.corpus import stopwords\n",
        "# load data\n",
        "text = 'The Quick brown fox jump over the lazy dog!'"
      ],
      "execution_count": 20,
      "outputs": [
        {
          "output_type": "stream",
          "name": "stderr",
          "text": [
            "[nltk_data] Downloading package punkt to /root/nltk_data...\n",
            "[nltk_data]   Package punkt is already up-to-date!\n"
          ]
        }
      ]
    },
    {
      "cell_type": "code",
      "metadata": {
        "id": "pehkONOeDPd-",
        "colab": {
          "base_uri": "https://localhost:8080/"
        },
        "outputId": "485c8c6e-2974-4d8b-a5db-55228ed5e58a"
      },
      "source": [
        "# split into words\n",
        "tokens = word_tokenize(text)\n",
        "print(tokens)"
      ],
      "execution_count": 21,
      "outputs": [
        {
          "output_type": "stream",
          "name": "stdout",
          "text": [
            "['The', 'Quick', 'brown', 'fox', 'jump', 'over', 'the', 'lazy', 'dog', '!']\n"
          ]
        }
      ]
    },
    {
      "cell_type": "code",
      "metadata": {
        "id": "K0zTYJKID--l",
        "colab": {
          "base_uri": "https://localhost:8080/"
        },
        "outputId": "3bbd2e8f-29f6-4920-c6b4-41dcc5c88f89"
      },
      "source": [
        "# convert to lower case\n",
        "tokens = [w.lower() for w in tokens]\n",
        "print(tokens)"
      ],
      "execution_count": 22,
      "outputs": [
        {
          "output_type": "stream",
          "name": "stdout",
          "text": [
            "['the', 'quick', 'brown', 'fox', 'jump', 'over', 'the', 'lazy', 'dog', '!']\n"
          ]
        }
      ]
    },
    {
      "cell_type": "code",
      "metadata": {
        "id": "PXAJpO5hEEcj",
        "colab": {
          "base_uri": "https://localhost:8080/"
        },
        "outputId": "098e4e64-7798-4d4d-fd81-a392593f05fa"
      },
      "source": [
        "# prepare regex for char filtering\n",
        "re_punc = re.compile('[%s]' % re.escape(string.punctuation))\n",
        "print(re_punc)"
      ],
      "execution_count": 23,
      "outputs": [
        {
          "output_type": "stream",
          "name": "stdout",
          "text": [
            "re.compile('[!\"\\\\#\\\\$%\\\\&\\'\\\\(\\\\)\\\\*\\\\+,\\\\-\\\\./:;<=>\\\\?@\\\\[\\\\\\\\\\\\]\\\\^_`\\\\{\\\\|\\\\}\\\\~]')\n"
          ]
        }
      ]
    },
    {
      "cell_type": "code",
      "metadata": {
        "id": "IRupmyA-EF7z",
        "colab": {
          "base_uri": "https://localhost:8080/"
        },
        "outputId": "b12516f1-299d-4e05-d3cc-8d0711964df7"
      },
      "source": [
        "# remove punctuation from each word\n",
        "stripped = [re_punc.sub('', w) for w in tokens]\n",
        "print(stripped)"
      ],
      "execution_count": 24,
      "outputs": [
        {
          "output_type": "stream",
          "name": "stdout",
          "text": [
            "['the', 'quick', 'brown', 'fox', 'jump', 'over', 'the', 'lazy', 'dog', '']\n"
          ]
        }
      ]
    },
    {
      "cell_type": "code",
      "metadata": {
        "id": "c0__AkhWEHPT",
        "colab": {
          "base_uri": "https://localhost:8080/"
        },
        "outputId": "4c3eb15b-19e6-41b3-b3f2-beffb2b879a0"
      },
      "source": [
        "# remove remaining tokens that are not alphabetic\n",
        "words = [word for word in stripped if word.isalpha()]\n",
        "print(words)"
      ],
      "execution_count": 25,
      "outputs": [
        {
          "output_type": "stream",
          "name": "stdout",
          "text": [
            "['the', 'quick', 'brown', 'fox', 'jump', 'over', 'the', 'lazy', 'dog']\n"
          ]
        }
      ]
    },
    {
      "cell_type": "code",
      "metadata": {
        "id": "6WYqyINsEIhD",
        "colab": {
          "base_uri": "https://localhost:8080/"
        },
        "outputId": "6f16d558-31ba-4e4d-86c7-88bcaf5a8d20"
      },
      "source": [
        "# filter out non-stop words\n",
        "stop_words = set(stopwords.words('english'))\n",
        "words = [w for w in words if not w in stop_words]\n",
        "print(words)"
      ],
      "execution_count": 26,
      "outputs": [
        {
          "output_type": "stream",
          "name": "stdout",
          "text": [
            "['quick', 'brown', 'fox', 'jump', 'lazy', 'dog']\n"
          ]
        }
      ]
    },
    {
      "cell_type": "code",
      "metadata": {
        "id": "2DdtvLMggo4P",
        "colab": {
          "base_uri": "https://localhost:8080/",
          "height": 34
        },
        "outputId": "e32cca62-64b8-4b6a-8479-330e2b485d90"
      },
      "source": [
        "nlp.vocab['dog'].is_stop"
      ],
      "execution_count": null,
      "outputs": [
        {
          "output_type": "execute_result",
          "data": {
            "text/plain": [
              "False"
            ]
          },
          "metadata": {
            "tags": []
          },
          "execution_count": 26
        }
      ]
    },
    {
      "cell_type": "code",
      "metadata": {
        "id": "khKxrWYhgp1P",
        "colab": {
          "base_uri": "https://localhost:8080/"
        },
        "outputId": "8909a596-d6f7-428d-ab65-b0b7bd6c5351"
      },
      "source": [
        "nlp.vocab['over'].is_stop"
      ],
      "execution_count": 27,
      "outputs": [
        {
          "output_type": "execute_result",
          "data": {
            "text/plain": [
              "True"
            ]
          },
          "metadata": {},
          "execution_count": 27
        }
      ]
    },
    {
      "cell_type": "code",
      "source": [],
      "metadata": {
        "id": "78pT8HejaWp4"
      },
      "execution_count": null,
      "outputs": []
    }
  ]
}